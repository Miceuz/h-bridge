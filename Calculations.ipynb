{
 "metadata": {
  "name": "Calculations"
 },
 "nbformat": 3,
 "nbformat_minor": 0,
 "worksheets": [
  {
   "cells": [
    {
     "cell_type": "code",
     "collapsed": false,
     "input": [
      "Vbat = 200 #V\n",
      "Imotor = 2 #A\n",
      "Lm = 50e-6 #H\n",
      "\n",
      "frequency = 20000 #Hz\n",
      "tcycle = 1.0/frequency\n",
      "\n",
      "Iripple = Vbat / Lm * tcycle/4\n",
      "Vripple = 0.2 #V\n",
      "\n",
      "C=1/64*Vbat/Vripple/Lm*tcycle**2\n",
      "\n",
      "print Iripple\n",
      "\n"
     ],
     "language": "python",
     "metadata": {},
     "outputs": [
      {
       "output_type": "stream",
       "stream": "stdout",
       "text": [
        "0.5\n"
       ]
      }
     ],
     "prompt_number": 1
    }
   ],
   "metadata": {}
  }
 ]
}